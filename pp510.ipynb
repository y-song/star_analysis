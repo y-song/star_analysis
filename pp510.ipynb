{
 "cells": [
  {
   "cell_type": "code",
   "execution_count": 1,
   "metadata": {},
   "outputs": [
    {
     "name": "stdout",
     "output_type": "stream",
     "text": [
      "Welcome to JupyROOT 6.22/02\n"
     ]
    }
   ],
   "source": [
    "import time\n",
    "import ROOT\n",
    "import math\n",
    "import numpy as np\n",
    "import pandas as pd\n",
    "import root_numpy\n",
    "import matplotlib.pyplot as plt\n",
    "import matplotlib.ticker as mticker\n",
    "from matplotlib.colors import LogNorm"
   ]
  },
  {
   "cell_type": "code",
   "execution_count": 2,
   "metadata": {},
   "outputs": [],
   "source": [
    "def getData(inputFiles):\n",
    "    data = root_numpy.root2array(inputFiles, \"Tree\", \\\n",
    "                                 branches=['evid','xsec','ntrials','pt_jet', 'p_jet', 'eta_jet', 'phi_jet', 'theta_jet'])\n",
    "    return pd.DataFrame(data)"
   ]
  },
  {
   "cell_type": "code",
   "execution_count": 3,
   "metadata": {},
   "outputs": [],
   "source": [
    "def applyCut(inputDataframe, cut, text=None):\n",
    "    dataframe = inputDataframe\n",
    "    nbeforecut = dataframe.shape[0]\n",
    "    cutDataframe = dataframe.query(cut)\n",
    "    if text:\n",
    "        print (text, cutDataframe.shape[0], ' fraction kept: %2.1f'%(100.0*float(cutDataframe.shape[0])/nbeforecut))\n",
    "    return cutDataframe"
   ]
  },
  {
   "cell_type": "code",
   "execution_count": 4,
   "metadata": {},
   "outputs": [],
   "source": [
    "def toArrayFloat(begin, end, interval=0, log=False, logNum=0):\n",
    "    array = []\n",
    "    if log==True:\n",
    "        array = np.logspace(begin, end, num=logNum)\n",
    "    else:\n",
    "        length = int((end - begin) / interval + 1)\n",
    "        for i in range(0,length):\n",
    "            array.append((float(begin + interval * i))) \n",
    "    return array"
   ]
  },
  {
   "cell_type": "code",
   "execution_count": 5,
   "metadata": {},
   "outputs": [],
   "source": [
    "def getInterval(arrayFloat):\n",
    "    interval = np.zeros(len(arrayFloat)-1)\n",
    "    for i in range(0,len(arrayFloat)-1):\n",
    "        interval[i] = arrayFloat[i+1] - arrayFloat[i]\n",
    "    return interval"
   ]
  },
  {
   "cell_type": "code",
   "execution_count": 6,
   "metadata": {},
   "outputs": [],
   "source": [
    "def getHist(df, var, binEdges):\n",
    "        \n",
    "    x = []\n",
    "    for i in range(0,len(binEdges)-1):\n",
    "        x.append((binEdges[i] + binEdges[i+1]) / 2)\n",
    "    \n",
    "    y = np.histogram(df[var], bins=binEdges)[0]\n",
    "    \n",
    "    xerr = getInterval(binEdges)/2\n",
    "    \n",
    "    yerr = np.sqrt(y)\n",
    "    \n",
    "    return x, y, xerr, yerr"
   ]
  },
  {
   "cell_type": "code",
   "execution_count": 7,
   "metadata": {},
   "outputs": [],
   "source": [
    "def keepOneJet(inputDataframe):    \n",
    "    dataframe = inputDataframe\n",
    "    nbeforecut = dataframe.shape[0]\n",
    "    cutDataframe = dataframe.loc[~dataframe['evid'].duplicated(keep='first')]\n",
    "    print ('\\n','Remove extra jets',cutDataframe.shape[0],' fraction kept: %2.1f'%(100.0*float(cutDataframe.shape[0])/nbeforecut))\n",
    "    return cutDataframe"
   ]
  },
  {
   "cell_type": "code",
   "execution_count": 8,
   "metadata": {},
   "outputs": [],
   "source": [
    "def flattenDf(a):\n",
    "    pt_array = np.hstack(np.asarray(a['pt_jet']))\n",
    "    eta_array = np.hstack(np.asarray(a['eta_jet']))\n",
    "    d = {'pt_jet': pt_array, 'eta_jet': eta_array}\n",
    "    df = pd.DataFrame(data=d)\n",
    "    df\n",
    "    return df"
   ]
  },
  {
   "cell_type": "code",
   "execution_count": 9,
   "metadata": {},
   "outputs": [],
   "source": [
    "file1 = ['$HOME/output/51005_1108.root']"
   ]
  },
  {
   "cell_type": "code",
   "execution_count": 10,
   "metadata": {},
   "outputs": [],
   "source": [
    "a = getData(file1)"
   ]
  },
  {
   "cell_type": "code",
   "execution_count": 11,
   "metadata": {},
   "outputs": [
    {
     "data": {
      "text/html": [
       "<div>\n",
       "<style scoped>\n",
       "    .dataframe tbody tr th:only-of-type {\n",
       "        vertical-align: middle;\n",
       "    }\n",
       "\n",
       "    .dataframe tbody tr th {\n",
       "        vertical-align: top;\n",
       "    }\n",
       "\n",
       "    .dataframe thead th {\n",
       "        text-align: right;\n",
       "    }\n",
       "</style>\n",
       "<table border=\"1\" class=\"dataframe\">\n",
       "  <thead>\n",
       "    <tr style=\"text-align: right;\">\n",
       "      <th></th>\n",
       "      <th>evid</th>\n",
       "      <th>xsec</th>\n",
       "      <th>ntrials</th>\n",
       "      <th>pt_jet</th>\n",
       "      <th>p_jet</th>\n",
       "      <th>eta_jet</th>\n",
       "      <th>phi_jet</th>\n",
       "      <th>theta_jet</th>\n",
       "    </tr>\n",
       "  </thead>\n",
       "  <tbody>\n",
       "    <tr>\n",
       "      <th>0</th>\n",
       "      <td>0</td>\n",
       "      <td>32.645405</td>\n",
       "      <td>1</td>\n",
       "      <td>[1.2053608, 0.29062593, 0.4221176, 1.0269989, ...</td>\n",
       "      <td>[16.84466, 3.4307084, 3.928925, 8.060831, 2.29...</td>\n",
       "      <td>[-3.3291194, -3.1598334, -2.921086, -2.74944, ...</td>\n",
       "      <td>[3.3310413, 2.2586944, 4.331904, 5.2979217, 2....</td>\n",
       "      <td>[3.069974, 3.056778, 3.0339465, 3.0138392, 2.9...</td>\n",
       "    </tr>\n",
       "    <tr>\n",
       "      <th>1</th>\n",
       "      <td>1</td>\n",
       "      <td>37.850784</td>\n",
       "      <td>2</td>\n",
       "      <td>[]</td>\n",
       "      <td>[]</td>\n",
       "      <td>[]</td>\n",
       "      <td>[]</td>\n",
       "      <td>[]</td>\n",
       "    </tr>\n",
       "    <tr>\n",
       "      <th>2</th>\n",
       "      <td>2</td>\n",
       "      <td>37.850784</td>\n",
       "      <td>3</td>\n",
       "      <td>[0.37981442, 0.24882749, 0.3138361, 0.93032646...</td>\n",
       "      <td>[5.0369263, 2.6105585, 2.4030852, 6.0496817, 0...</td>\n",
       "      <td>[-3.276591, -3.0414279, -2.7244935, -2.5594072...</td>\n",
       "      <td>[5.8235493, 1.8114407, 4.635877, 3.3773475, 1....</td>\n",
       "      <td>[3.066115, 3.0461318, 3.0106213, 2.9871988, 2....</td>\n",
       "    </tr>\n",
       "    <tr>\n",
       "      <th>3</th>\n",
       "      <td>3</td>\n",
       "      <td>37.850784</td>\n",
       "      <td>4</td>\n",
       "      <td>[1.169587, 0.31921408, 0.33755273, 0.8123443, ...</td>\n",
       "      <td>[9.167047, 2.0487196, 1.9479972, 2.2327108, 1....</td>\n",
       "      <td>[-2.748017, -2.5461302, -2.43839, -1.6693249, ...</td>\n",
       "      <td>[4.998795, 0.070251755, 2.1165416, 4.374888, 3...</td>\n",
       "      <td>[3.013658, 2.9851437, 2.9674315, 2.769208, 2.6...</td>\n",
       "    </tr>\n",
       "    <tr>\n",
       "      <th>4</th>\n",
       "      <td>4</td>\n",
       "      <td>37.850784</td>\n",
       "      <td>5</td>\n",
       "      <td>[1.0561368, 0.3330148, 1.1599444, 0.2651365, 0...</td>\n",
       "      <td>[11.675229, 2.6669836, 7.7600107, 1.5500776, 1...</td>\n",
       "      <td>[-3.0939467, -2.7697427, -2.5881255, -2.451566...</td>\n",
       "      <td>[1.5071031, 4.439891, 1.3938484, 3.464764, 6.1...</td>\n",
       "      <td>[3.0510092, 3.0164, 2.991553, 2.9697, 2.861007...</td>\n",
       "    </tr>\n",
       "    <tr>\n",
       "      <th>...</th>\n",
       "      <td>...</td>\n",
       "      <td>...</td>\n",
       "      <td>...</td>\n",
       "      <td>...</td>\n",
       "      <td>...</td>\n",
       "      <td>...</td>\n",
       "      <td>...</td>\n",
       "      <td>...</td>\n",
       "    </tr>\n",
       "    <tr>\n",
       "      <th>999995</th>\n",
       "      <td>999995</td>\n",
       "      <td>48.049965</td>\n",
       "      <td>999996</td>\n",
       "      <td>[0.5207943, 0.54506785, 0.60894066, 0.23744586...</td>\n",
       "      <td>[5.0273633, 2.601556, 2.5287163, 0.9312109, 1....</td>\n",
       "      <td>[-2.9577494, -2.2449427, -2.10207, -2.0430276,...</td>\n",
       "      <td>[6.089914, 4.2519217, 5.918906, 0.14608718, 2....</td>\n",
       "      <td>[3.0378146, 2.9305127, 2.8983922, 2.8837593, 2...</td>\n",
       "    </tr>\n",
       "    <tr>\n",
       "      <th>999996</th>\n",
       "      <td>999996</td>\n",
       "      <td>48.049965</td>\n",
       "      <td>999997</td>\n",
       "      <td>[1.6371254, 0.3929236, 0.22314496, 0.6002122, ...</td>\n",
       "      <td>[13.709621, 2.6979609, 1.016205, 2.66438, 2.52...</td>\n",
       "      <td>[-2.814719, -2.6144383, -2.1968775, -2.1706553...</td>\n",
       "      <td>[1.4309654, 6.217759, 4.192109, 0.43762642, 2....</td>\n",
       "      <td>[3.0218928, 2.9954357, 2.920202, 2.9143696, 2....</td>\n",
       "    </tr>\n",
       "    <tr>\n",
       "      <th>999997</th>\n",
       "      <td>999997</td>\n",
       "      <td>48.049965</td>\n",
       "      <td>999998</td>\n",
       "      <td>[0.32405072, 0.6350378, 0.5900213, 1.026022, 0...</td>\n",
       "      <td>[2.562788, 4.408288, 3.1121876, 4.402697, 3.54...</td>\n",
       "      <td>[-2.757077, -2.6254754, -2.3469605, -2.1358128...</td>\n",
       "      <td>[2.0831492, 3.0107563, 4.687581, 0.31844184, 3...</td>\n",
       "      <td>[3.0148087, 2.9970343, 2.950854, 2.906386, 2.8...</td>\n",
       "    </tr>\n",
       "    <tr>\n",
       "      <th>999998</th>\n",
       "      <td>999998</td>\n",
       "      <td>48.049965</td>\n",
       "      <td>999999</td>\n",
       "      <td>[0.27017683, 0.36071578, 1.1243956, 1.2547517,...</td>\n",
       "      <td>[4.1535172, 2.6563416, 4.042677, 2.7390683, 2....</td>\n",
       "      <td>[-3.4247217, -2.6851196, -1.9528828, -1.416676...</td>\n",
       "      <td>[3.2810717, 2.284839, 5.8159323, 1.3320194, 5....</td>\n",
       "      <td>[3.076499, 3.0053775, 2.8597443, 2.6657424, 2....</td>\n",
       "    </tr>\n",
       "    <tr>\n",
       "      <th>999999</th>\n",
       "      <td>999999</td>\n",
       "      <td>48.049965</td>\n",
       "      <td>1000000</td>\n",
       "      <td>[0.20477186, 1.0101093, 0.8298966, 0.36907712,...</td>\n",
       "      <td>[2.97081, 13.963762, 6.842973, 2.6674984, 1.69...</td>\n",
       "      <td>[-3.3666508, -3.3182435, -2.7991261, -2.666217...</td>\n",
       "      <td>[2.9685204, 5.7764015, 2.4740803, 3.8814101, 5...</td>\n",
       "      <td>[3.07261, 3.0691915, 3.0200162, 3.0027866, 2.5...</td>\n",
       "    </tr>\n",
       "  </tbody>\n",
       "</table>\n",
       "<p>1000000 rows × 8 columns</p>\n",
       "</div>"
      ],
      "text/plain": [
       "          evid       xsec  ntrials  \\\n",
       "0            0  32.645405        1   \n",
       "1            1  37.850784        2   \n",
       "2            2  37.850784        3   \n",
       "3            3  37.850784        4   \n",
       "4            4  37.850784        5   \n",
       "...        ...        ...      ...   \n",
       "999995  999995  48.049965   999996   \n",
       "999996  999996  48.049965   999997   \n",
       "999997  999997  48.049965   999998   \n",
       "999998  999998  48.049965   999999   \n",
       "999999  999999  48.049965  1000000   \n",
       "\n",
       "                                                   pt_jet  \\\n",
       "0       [1.2053608, 0.29062593, 0.4221176, 1.0269989, ...   \n",
       "1                                                      []   \n",
       "2       [0.37981442, 0.24882749, 0.3138361, 0.93032646...   \n",
       "3       [1.169587, 0.31921408, 0.33755273, 0.8123443, ...   \n",
       "4       [1.0561368, 0.3330148, 1.1599444, 0.2651365, 0...   \n",
       "...                                                   ...   \n",
       "999995  [0.5207943, 0.54506785, 0.60894066, 0.23744586...   \n",
       "999996  [1.6371254, 0.3929236, 0.22314496, 0.6002122, ...   \n",
       "999997  [0.32405072, 0.6350378, 0.5900213, 1.026022, 0...   \n",
       "999998  [0.27017683, 0.36071578, 1.1243956, 1.2547517,...   \n",
       "999999  [0.20477186, 1.0101093, 0.8298966, 0.36907712,...   \n",
       "\n",
       "                                                    p_jet  \\\n",
       "0       [16.84466, 3.4307084, 3.928925, 8.060831, 2.29...   \n",
       "1                                                      []   \n",
       "2       [5.0369263, 2.6105585, 2.4030852, 6.0496817, 0...   \n",
       "3       [9.167047, 2.0487196, 1.9479972, 2.2327108, 1....   \n",
       "4       [11.675229, 2.6669836, 7.7600107, 1.5500776, 1...   \n",
       "...                                                   ...   \n",
       "999995  [5.0273633, 2.601556, 2.5287163, 0.9312109, 1....   \n",
       "999996  [13.709621, 2.6979609, 1.016205, 2.66438, 2.52...   \n",
       "999997  [2.562788, 4.408288, 3.1121876, 4.402697, 3.54...   \n",
       "999998  [4.1535172, 2.6563416, 4.042677, 2.7390683, 2....   \n",
       "999999  [2.97081, 13.963762, 6.842973, 2.6674984, 1.69...   \n",
       "\n",
       "                                                  eta_jet  \\\n",
       "0       [-3.3291194, -3.1598334, -2.921086, -2.74944, ...   \n",
       "1                                                      []   \n",
       "2       [-3.276591, -3.0414279, -2.7244935, -2.5594072...   \n",
       "3       [-2.748017, -2.5461302, -2.43839, -1.6693249, ...   \n",
       "4       [-3.0939467, -2.7697427, -2.5881255, -2.451566...   \n",
       "...                                                   ...   \n",
       "999995  [-2.9577494, -2.2449427, -2.10207, -2.0430276,...   \n",
       "999996  [-2.814719, -2.6144383, -2.1968775, -2.1706553...   \n",
       "999997  [-2.757077, -2.6254754, -2.3469605, -2.1358128...   \n",
       "999998  [-3.4247217, -2.6851196, -1.9528828, -1.416676...   \n",
       "999999  [-3.3666508, -3.3182435, -2.7991261, -2.666217...   \n",
       "\n",
       "                                                  phi_jet  \\\n",
       "0       [3.3310413, 2.2586944, 4.331904, 5.2979217, 2....   \n",
       "1                                                      []   \n",
       "2       [5.8235493, 1.8114407, 4.635877, 3.3773475, 1....   \n",
       "3       [4.998795, 0.070251755, 2.1165416, 4.374888, 3...   \n",
       "4       [1.5071031, 4.439891, 1.3938484, 3.464764, 6.1...   \n",
       "...                                                   ...   \n",
       "999995  [6.089914, 4.2519217, 5.918906, 0.14608718, 2....   \n",
       "999996  [1.4309654, 6.217759, 4.192109, 0.43762642, 2....   \n",
       "999997  [2.0831492, 3.0107563, 4.687581, 0.31844184, 3...   \n",
       "999998  [3.2810717, 2.284839, 5.8159323, 1.3320194, 5....   \n",
       "999999  [2.9685204, 5.7764015, 2.4740803, 3.8814101, 5...   \n",
       "\n",
       "                                                theta_jet  \n",
       "0       [3.069974, 3.056778, 3.0339465, 3.0138392, 2.9...  \n",
       "1                                                      []  \n",
       "2       [3.066115, 3.0461318, 3.0106213, 2.9871988, 2....  \n",
       "3       [3.013658, 2.9851437, 2.9674315, 2.769208, 2.6...  \n",
       "4       [3.0510092, 3.0164, 2.991553, 2.9697, 2.861007...  \n",
       "...                                                   ...  \n",
       "999995  [3.0378146, 2.9305127, 2.8983922, 2.8837593, 2...  \n",
       "999996  [3.0218928, 2.9954357, 2.920202, 2.9143696, 2....  \n",
       "999997  [3.0148087, 2.9970343, 2.950854, 2.906386, 2.8...  \n",
       "999998  [3.076499, 3.0053775, 2.8597443, 2.6657424, 2....  \n",
       "999999  [3.07261, 3.0691915, 3.0200162, 3.0027866, 2.5...  \n",
       "\n",
       "[1000000 rows x 8 columns]"
      ]
     },
     "execution_count": 11,
     "metadata": {},
     "output_type": "execute_result"
    }
   ],
   "source": [
    "a"
   ]
  },
  {
   "cell_type": "code",
   "execution_count": 12,
   "metadata": {},
   "outputs": [],
   "source": [
    "b = flattenDf(a)"
   ]
  },
  {
   "cell_type": "code",
   "execution_count": 13,
   "metadata": {},
   "outputs": [
    {
     "data": {
      "text/html": [
       "<div>\n",
       "<style scoped>\n",
       "    .dataframe tbody tr th:only-of-type {\n",
       "        vertical-align: middle;\n",
       "    }\n",
       "\n",
       "    .dataframe tbody tr th {\n",
       "        vertical-align: top;\n",
       "    }\n",
       "\n",
       "    .dataframe thead th {\n",
       "        text-align: right;\n",
       "    }\n",
       "</style>\n",
       "<table border=\"1\" class=\"dataframe\">\n",
       "  <thead>\n",
       "    <tr style=\"text-align: right;\">\n",
       "      <th></th>\n",
       "      <th>pt_jet</th>\n",
       "      <th>eta_jet</th>\n",
       "    </tr>\n",
       "  </thead>\n",
       "  <tbody>\n",
       "    <tr>\n",
       "      <th>0</th>\n",
       "      <td>1.205361</td>\n",
       "      <td>-3.329119</td>\n",
       "    </tr>\n",
       "    <tr>\n",
       "      <th>1</th>\n",
       "      <td>0.290626</td>\n",
       "      <td>-3.159833</td>\n",
       "    </tr>\n",
       "    <tr>\n",
       "      <th>2</th>\n",
       "      <td>0.422118</td>\n",
       "      <td>-2.921086</td>\n",
       "    </tr>\n",
       "    <tr>\n",
       "      <th>3</th>\n",
       "      <td>1.026999</td>\n",
       "      <td>-2.749440</td>\n",
       "    </tr>\n",
       "    <tr>\n",
       "      <th>4</th>\n",
       "      <td>0.337575</td>\n",
       "      <td>-2.602932</td>\n",
       "    </tr>\n",
       "    <tr>\n",
       "      <th>...</th>\n",
       "      <td>...</td>\n",
       "      <td>...</td>\n",
       "    </tr>\n",
       "    <tr>\n",
       "      <th>18511906</th>\n",
       "      <td>0.453650</td>\n",
       "      <td>1.551558</td>\n",
       "    </tr>\n",
       "    <tr>\n",
       "      <th>18511907</th>\n",
       "      <td>0.365872</td>\n",
       "      <td>1.662381</td>\n",
       "    </tr>\n",
       "    <tr>\n",
       "      <th>18511908</th>\n",
       "      <td>0.628980</td>\n",
       "      <td>2.763315</td>\n",
       "    </tr>\n",
       "    <tr>\n",
       "      <th>18511909</th>\n",
       "      <td>0.541301</td>\n",
       "      <td>2.950686</td>\n",
       "    </tr>\n",
       "    <tr>\n",
       "      <th>18511910</th>\n",
       "      <td>0.457194</td>\n",
       "      <td>3.492774</td>\n",
       "    </tr>\n",
       "  </tbody>\n",
       "</table>\n",
       "<p>18511911 rows × 2 columns</p>\n",
       "</div>"
      ],
      "text/plain": [
       "            pt_jet   eta_jet\n",
       "0         1.205361 -3.329119\n",
       "1         0.290626 -3.159833\n",
       "2         0.422118 -2.921086\n",
       "3         1.026999 -2.749440\n",
       "4         0.337575 -2.602932\n",
       "...            ...       ...\n",
       "18511906  0.453650  1.551558\n",
       "18511907  0.365872  1.662381\n",
       "18511908  0.628980  2.763315\n",
       "18511909  0.541301  2.950686\n",
       "18511910  0.457194  3.492774\n",
       "\n",
       "[18511911 rows x 2 columns]"
      ]
     },
     "execution_count": 13,
     "metadata": {},
     "output_type": "execute_result"
    }
   ],
   "source": [
    "b"
   ]
  },
  {
   "cell_type": "code",
   "execution_count": 14,
   "metadata": {},
   "outputs": [
    {
     "name": "stdout",
     "output_type": "stream",
     "text": [
      "abs(eta) < 0.5 2604328  fraction kept: 14.1\n",
      "0.5 < abs(eta) < 0.9 2122517  fraction kept: 11.5\n",
      "2.5 < eta < 4.0 2509341  fraction kept: 13.6\n"
     ]
    }
   ],
   "source": [
    "df1 = applyCut(b, 'abs(eta_jet) < 0.5', 'abs(eta) < 0.5')\n",
    "df2 = applyCut(b, '0.5 < abs(eta_jet) < 0.9', '0.5 < abs(eta) < 0.9')\n",
    "df3 = applyCut(b, '2.5 < eta_jet < 4.0', '2.5 < eta < 4.0')"
   ]
  },
  {
   "cell_type": "code",
   "execution_count": 24,
   "metadata": {},
   "outputs": [],
   "source": [
    "xvar_array = toArrayFloat(0.95, 1.90, 0, log=True, logNum=11)\n",
    "xsec = np.mean(a['xsec'])\n",
    "ntrials = a['ntrials'][a.shape[0]-1]\n",
    "x1, y1, xerr, yerr1 = getHist(df1, 'pt_jet', xvar_array)\n",
    "x2, y2, xerr, yerr2 = getHist(df2, 'pt_jet', xvar_array)\n",
    "x3, y3, xerr, yerr3 = getHist(df3, 'pt_jet', xvar_array)"
   ]
  },
  {
   "cell_type": "code",
   "execution_count": 16,
   "metadata": {},
   "outputs": [
    {
     "data": {
      "text/plain": [
       "Text(65, 5, '$\\\\sqrt{s} = 510 \\\\, \\\\mathrm{GeV}$ \\n R = 0.5')"
      ]
     },
     "execution_count": 16,
     "metadata": {},
     "output_type": "execute_result"
    },
    {
     "data": {
      "image/png": "[encoded data removed]",
      "text/plain": [
       "<Figure size 720x432 with 1 Axes>"
      ]
     },
     "metadata": {
      "needs_background": "light"
     },
     "output_type": "display_data"
    }
   ],
   "source": [
    "fig = plt.figure(figsize=(10,6))\n",
    "plt.errorbar(x1, y1*xsec*1e9/(2*ntrials*xerr*1), xerr = xerr, yerr = yerr1*xsec*1e9/(2*ntrials*xerr*1),\\\n",
    "             fmt='none', color='r', elinewidth=1, label='|$\\eta$| < 0.5')\n",
    "plt.plot(x1, y1*xsec*1e9/(2*ntrials*xerr*1), 'r.', fillstyle='none')\n",
    "plt.errorbar(x2, y2*xsec*1e9/(2*ntrials*xerr*0.8), xerr = xerr, yerr = yerr2*xsec*1e9/(2*ntrials*xerr*0.8),\\\n",
    "             fmt='none', color='b', elinewidth=1, label='0.5 < |$\\eta$| < 0.9')\n",
    "plt.plot(x2, y2*xsec*1e9/(2*ntrials*xerr*0.8), 'b.', fillstyle='none')\n",
    "plt.xticks(fontsize=15)\n",
    "plt.yticks(fontsize=15)\n",
    "plt.yscale('log')\n",
    "plt.xlabel('$p_T$ [GeV]', fontsize=15)\n",
    "plt.ylabel(r'$d^2 \\sigma / (dp_T d \\eta)$ [pb/GeV]', fontsize=15)\n",
    "plt.xlim(left=7.5, right=80)\n",
    "plt.ylim(top=3e7, bottom=1)\n",
    "plt.legend(prop={'size': 15}, frameon=False, loc='best')\n",
    "plt.text(65,5,'$\\sqrt{s} = 510 \\, \\mathrm{GeV}$ \\n R = 0.5', fontsize=15)"
   ]
  },
  {
   "cell_type": "code",
   "execution_count": 25,
   "metadata": {},
   "outputs": [
    {
     "data": {
      "text/plain": [
       "Text(25, 5, '$\\\\sqrt{s} = 510 \\\\, \\\\mathrm{GeV}$ \\n R = 0.5')"
      ]
     },
     "execution_count": 25,
     "metadata": {},
     "output_type": "execute_result"
    },
    {
     "data": {
      "image/png": "[encoded data removed]",
      "text/plain": [
       "<Figure size 720x432 with 1 Axes>"
      ]
     },
     "metadata": {
      "needs_background": "light"
     },
     "output_type": "display_data"
    }
   ],
   "source": [
    "fig = plt.figure(figsize=(10,6))\n",
    "plt.errorbar(x1, y1*xsec*1e9/(2*ntrials*xerr*1), xerr = xerr, yerr = yerr1*xsec*1e9/(2*ntrials*xerr*1),\\\n",
    "             fmt='none', color='r', elinewidth=1, label='|$\\eta$| < 0.5')\n",
    "plt.plot(x1, y1*xsec*1e9/(2*ntrials*xerr*1), 'r.', fillstyle='none')\n",
    "plt.errorbar(x2, y2*xsec*1e9/(2*ntrials*xerr*0.8), xerr = xerr, yerr = yerr2*xsec*1e9/(2*ntrials*xerr*0.8),\\\n",
    "             fmt='none', color='b', elinewidth=1, label='0.5 < |$\\eta$| < 0.9')\n",
    "plt.plot(x2, y2*xsec*1e9/(2*ntrials*xerr*0.8), 'b.', fillstyle='none')\n",
    "plt.errorbar(x3, y3*xsec*1e9/(2*ntrials*xerr*1.5), xerr = xerr, yerr = yerr3*xsec*1e9/(2*ntrials*xerr*1.5),\\\n",
    "             fmt='none', color='g', elinewidth=1, label='2.5 < $\\eta$ < 4.0')\n",
    "plt.plot(x3, y3*xsec*1e9/(2*ntrials*xerr*1.5), 'g.', fillstyle='none')\n",
    "plt.xticks(fontsize=15)\n",
    "plt.yticks(fontsize=15)\n",
    "plt.tick_params('both', length=10, width=1, which='major')\n",
    "plt.yscale('log')\n",
    "plt.xlabel('$p_T$ [GeV]', fontsize=15)\n",
    "plt.ylabel(r'$d^2 \\sigma / (dp_T d \\eta)$ [pb/GeV]', fontsize=15)\n",
    "plt.xlim(left=7.5, right=30)\n",
    "plt.ylim(top=3e7, bottom=1)\n",
    "plt.legend(prop={'size': 15}, frameon=False, loc='best')\n",
    "plt.text(25,5,'$\\sqrt{s} = 510 \\, \\mathrm{GeV}$ \\n R = 0.5', fontsize=15)"
   ]
  },
  {
   "cell_type": "code",
   "execution_count": 27,
   "metadata": {},
   "outputs": [],
   "source": [
    "xvar_array = toArrayFloat(0.30, 1.50, 0, log=True, logNum=11)\n",
    "x3, y3, xerr, yerr3 = getHist(df3, 'pt_jet', xvar_array)"
   ]
  },
  {
   "cell_type": "code",
   "execution_count": 28,
   "metadata": {},
   "outputs": [
    {
     "data": {
      "text/plain": [
       "Text(12, 10000.0, '$\\\\sqrt{s} = 510 \\\\, \\\\mathrm{GeV}$ \\n R = 0.5')"
      ]
     },
     "execution_count": 28,
     "metadata": {},
     "output_type": "execute_result"
    },
    {
     "data": {
      "image/png": "[encoded data removed]",
      "text/plain": [
       "<Figure size 720x432 with 1 Axes>"
      ]
     },
     "metadata": {
      "needs_background": "light"
     },
     "output_type": "display_data"
    }
   ],
   "source": [
    "fig = plt.figure(figsize=(10,6))\n",
    "plt.errorbar(x3, y3*xsec*1e9/(2*ntrials*xerr*1.5), xerr = xerr, yerr = yerr3*xsec*1e9/(2*ntrials*xerr*1.5),\\\n",
    "             fmt='none', color='g', elinewidth=1, label='2.5 < $\\eta$ < 4.0')\n",
    "plt.plot(x3, y3*xsec*1e9/(2*ntrials*xerr*1.5), 'g.', fillstyle='none')\n",
    "plt.xticks(fontsize=15)\n",
    "plt.yticks(fontsize=15)\n",
    "plt.tick_params('both', length=10, width=1, which='major')\n",
    "plt.yscale('log')\n",
    "plt.xlabel('$p_T$ [GeV]', fontsize=15)\n",
    "plt.ylabel(r'$d^2 \\sigma / (dp_T d \\eta)$ [pb/GeV]', fontsize=15)\n",
    "plt.xlim(left=2.0, right=15)\n",
    "#plt.ylim(top=3e7, bottom=1)\n",
    "plt.legend(prop={'size': 15}, frameon=False, loc='best')\n",
    "plt.text(12,1e4,'$\\sqrt{s} = 510 \\, \\mathrm{GeV}$ \\n R = 0.5', fontsize=15)"
   ]
  },
  {
   "cell_type": "code",
   "execution_count": null,
   "metadata": {},
   "outputs": [],
   "source": []
  }
 ],
 "metadata": {
  "kernelspec": {
   "display_name": "Python 3",
   "language": "python",
   "name": "python3"
  },
  "language_info": {
   "codemirror_mode": {
    "name": "ipython",
    "version": 3
   },
   "file_extension": ".py",
   "mimetype": "text/x-python",
   "name": "python",
   "nbconvert_exporter": "python",
   "pygments_lexer": "ipython3",
   "version": "3.8.5"
  }
 },
 "nbformat": 4,
 "nbformat_minor": 2
}
