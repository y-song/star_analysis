{
 "cells": [
  {
   "cell_type": "code",
   "execution_count": 1,
   "metadata": {},
   "outputs": [
    {
     "name": "stdout",
     "output_type": "stream",
     "text": [
      "Welcome to JupyROOT 6.22/02\n"
     ]
    }
   ],
   "source": [
    "import time\n",
    "import ROOT\n",
    "import math\n",
    "import numpy as np\n",
    "import pandas as pd\n",
    "import root_numpy\n",
    "import matplotlib.pyplot as plt\n",
    "import matplotlib.ticker as mticker\n",
    "from matplotlib.colors import LogNorm"
   ]
  },
  {
   "cell_type": "code",
   "execution_count": 2,
   "metadata": {},
   "outputs": [],
   "source": [
    "def getData(inputFiles):\n",
    "    data = root_numpy.root2array(inputFiles, \"Tree\", \\\n",
    "                                 branches=['evid','xsec','ntrials','pt_jet', 'p_jet', 'eta_jet', 'phi_jet', 'theta_jet'])\n",
    "    return pd.DataFrame(data)"
   ]
  },
  {
   "cell_type": "code",
   "execution_count": 3,
   "metadata": {},
   "outputs": [],
   "source": [
    "def applyCut(inputDataframe, cut, text=None):\n",
    "    dataframe = inputDataframe\n",
    "    nbeforecut = dataframe.shape[0]\n",
    "    cutDataframe = dataframe.query(cut)\n",
    "    if text:\n",
    "        print (text, cutDataframe.shape[0], ' fraction kept: %2.1f'%(100.0*float(cutDataframe.shape[0])/nbeforecut))\n",
    "    return cutDataframe"
   ]
  },
  {
   "cell_type": "code",
   "execution_count": 4,
   "metadata": {},
   "outputs": [],
   "source": [
    "def toArrayFloat(begin, end, interval=0, log=False, logNum=0):\n",
    "    array = []\n",
    "    if log==True:\n",
    "        array = np.logspace(begin, end, num=logNum)\n",
    "    else:\n",
    "        length = int((end - begin) / interval + 1)\n",
    "        for i in range(0,length):\n",
    "            array.append((float(begin + interval * i))) \n",
    "    return array"
   ]
  },
  {
   "cell_type": "code",
   "execution_count": 5,
   "metadata": {},
   "outputs": [],
   "source": [
    "def getInterval(arrayFloat):\n",
    "    interval = np.zeros(len(arrayFloat)-1)\n",
    "    for i in range(0,len(arrayFloat)-1):\n",
    "        interval[i] = arrayFloat[i+1] - arrayFloat[i]\n",
    "    return interval"
   ]
  },
  {
   "cell_type": "code",
   "execution_count": 6,
   "metadata": {},
   "outputs": [],
   "source": [
    "def getHist(df, var, binEdges):\n",
    "        \n",
    "    x = []\n",
    "    for i in range(0,len(binEdges)-1):\n",
    "        x.append((binEdges[i] + binEdges[i+1]) / 2)\n",
    "    \n",
    "    y = np.histogram(df[var], bins=binEdges)[0]\n",
    "    \n",
    "    xerr = getInterval(binEdges)/2\n",
    "    \n",
    "    yerr = np.sqrt(y)\n",
    "    \n",
    "    return x, y, xerr, yerr"
   ]
  },
  {
   "cell_type": "code",
   "execution_count": 7,
   "metadata": {},
   "outputs": [],
   "source": [
    "def keepOneJet(inputDataframe):    \n",
    "    dataframe = inputDataframe\n",
    "    nbeforecut = dataframe.shape[0]\n",
    "    cutDataframe = dataframe.loc[~dataframe['evid'].duplicated(keep='first')]\n",
    "    print ('\\n','Remove extra jets',cutDataframe.shape[0],' fraction kept: %2.1f'%(100.0*float(cutDataframe.shape[0])/nbeforecut))\n",
    "    return cutDataframe"
   ]
  },
  {
   "cell_type": "code",
   "execution_count": 8,
   "metadata": {},
   "outputs": [],
   "source": [
    "def flattenDf(a):\n",
    "    pt_array = np.hstack(np.asarray(a['pt_jet']))\n",
    "    eta_array = np.hstack(np.asarray(a['eta_jet']))\n",
    "    d = {'pt_jet': pt_array, 'eta_jet': eta_array}\n",
    "    df = pd.DataFrame(data=d)\n",
    "    df\n",
    "    return df"
   ]
  },
  {
   "cell_type": "code",
   "execution_count": 9,
   "metadata": {},
   "outputs": [],
   "source": [
    "file1 = ['$HOME/output/main.root']"
   ]
  },
  {
   "cell_type": "code",
   "execution_count": 10,
   "metadata": {},
   "outputs": [],
   "source": [
    "a = getData(file1)"
   ]
  },
  {
   "cell_type": "code",
   "execution_count": 11,
   "metadata": {},
   "outputs": [
    {
     "data": {
      "text/html": [
       "<div>\n",
       "<style scoped>\n",
       "    .dataframe tbody tr th:only-of-type {\n",
       "        vertical-align: middle;\n",
       "    }\n",
       "\n",
       "    .dataframe tbody tr th {\n",
       "        vertical-align: top;\n",
       "    }\n",
       "\n",
       "    .dataframe thead th {\n",
       "        text-align: right;\n",
       "    }\n",
       "</style>\n",
       "<table border=\"1\" class=\"dataframe\">\n",
       "  <thead>\n",
       "    <tr style=\"text-align: right;\">\n",
       "      <th></th>\n",
       "      <th>evid</th>\n",
       "      <th>xsec</th>\n",
       "      <th>ntrials</th>\n",
       "      <th>pt_jet</th>\n",
       "      <th>p_jet</th>\n",
       "      <th>eta_jet</th>\n",
       "      <th>phi_jet</th>\n",
       "      <th>theta_jet</th>\n",
       "    </tr>\n",
       "  </thead>\n",
       "  <tbody>\n",
       "    <tr>\n",
       "      <th>0</th>\n",
       "      <td>0</td>\n",
       "      <td>5.205378</td>\n",
       "      <td>1</td>\n",
       "      <td>[]</td>\n",
       "      <td>[]</td>\n",
       "      <td>[]</td>\n",
       "      <td>[]</td>\n",
       "      <td>[]</td>\n",
       "    </tr>\n",
       "    <tr>\n",
       "      <th>1</th>\n",
       "      <td>1</td>\n",
       "      <td>37.850784</td>\n",
       "      <td>2</td>\n",
       "      <td>[2.201913, 0.29578567, 0.9773209, 0.7681313, 0...</td>\n",
       "      <td>[32.823925, 3.887846, 12.212997, 4.591309, 2.3...</td>\n",
       "      <td>[-3.3938513, -3.2676725, -3.2169833, -2.474034...</td>\n",
       "      <td>[6.23342, 3.69009, 5.5482874, 2.385043, 4.8357...</td>\n",
       "      <td>[3.0744598, 3.0654395, 3.061484, 2.973501, 2.9...</td>\n",
       "    </tr>\n",
       "    <tr>\n",
       "      <th>2</th>\n",
       "      <td>2</td>\n",
       "      <td>37.850784</td>\n",
       "      <td>3</td>\n",
       "      <td>[1.6465796, 0.27085885, 0.48814473, 0.4998024,...</td>\n",
       "      <td>[14.38167, 2.2402294, 3.7687087, 3.247805, 1.5...</td>\n",
       "      <td>[-2.857108, -2.802208, -2.7328022, -2.5586953,...</td>\n",
       "      <td>[3.6834486, 0.023993153, 1.520591, 5.428285, 2...</td>\n",
       "      <td>[3.0268495, 3.0203893, 3.011702, 2.9870894, 2....</td>\n",
       "    </tr>\n",
       "    <tr>\n",
       "      <th>3</th>\n",
       "      <td>3</td>\n",
       "      <td>37.850784</td>\n",
       "      <td>4</td>\n",
       "      <td>[0.9102772, 0.82021517, 0.42095256, 0.515329, ...</td>\n",
       "      <td>[14.741579, 10.742817, 4.815067, 5.983839, 15....</td>\n",
       "      <td>[-3.4768708, -3.2641125, -3.128216, -3.1432998...</td>\n",
       "      <td>[2.896294, 4.9733853, 4.291181, 0.6668749, 1.4...</td>\n",
       "      <td>[3.0798044, 3.0651681, 3.054057, 3.0553658, 3....</td>\n",
       "    </tr>\n",
       "    <tr>\n",
       "      <th>4</th>\n",
       "      <td>4</td>\n",
       "      <td>42.950375</td>\n",
       "      <td>5</td>\n",
       "      <td>[0.3276816, 0.39279422, 0.6722541, 0.26302376,...</td>\n",
       "      <td>[0.33303684, 0.4067837, 0.76470613, 0.8013649,...</td>\n",
       "      <td>[0.18054634, 0.26610467, 0.51862115, 1.779129,...</td>\n",
       "      <td>[2.213621, 0.44291025, 4.5796113, 2.6460323, 2...</td>\n",
       "      <td>[1.391223, 1.3077778, 1.0739732, 0.3344183, 0....</td>\n",
       "    </tr>\n",
       "    <tr>\n",
       "      <th>...</th>\n",
       "      <td>...</td>\n",
       "      <td>...</td>\n",
       "      <td>...</td>\n",
       "      <td>...</td>\n",
       "      <td>...</td>\n",
       "      <td>...</td>\n",
       "      <td>...</td>\n",
       "      <td>...</td>\n",
       "    </tr>\n",
       "    <tr>\n",
       "      <th>9999995</th>\n",
       "      <td>9999995</td>\n",
       "      <td>48.049965</td>\n",
       "      <td>9999996</td>\n",
       "      <td>[0.7776813, 0.22989054, 0.5844519, 0.765267, 0...</td>\n",
       "      <td>[11.1556225, 1.8002781, 3.8625216, 3.3814282, ...</td>\n",
       "      <td>[-3.355312, -2.7471385, -2.5757744, -2.165918,...</td>\n",
       "      <td>[1.7558124, 3.1974523, 2.6087239, 5.895424, 2....</td>\n",
       "      <td>[3.071824, 3.0135458, 2.9896955, 2.9133, 2.464...</td>\n",
       "    </tr>\n",
       "    <tr>\n",
       "      <th>9999996</th>\n",
       "      <td>9999996</td>\n",
       "      <td>48.049965</td>\n",
       "      <td>9999997</td>\n",
       "      <td>[]</td>\n",
       "      <td>[]</td>\n",
       "      <td>[]</td>\n",
       "      <td>[]</td>\n",
       "      <td>[]</td>\n",
       "    </tr>\n",
       "    <tr>\n",
       "      <th>9999997</th>\n",
       "      <td>9999997</td>\n",
       "      <td>48.049965</td>\n",
       "      <td>9999998</td>\n",
       "      <td>[0.55437016, 0.6537371, 1.463661, 0.9613081, 0...</td>\n",
       "      <td>[7.058883, 8.062139, 17.1352, 8.66796, 3.15630...</td>\n",
       "      <td>[-3.2358112, -3.203728, -3.1515121, -2.8891518...</td>\n",
       "      <td>[1.4067961, 0.53279525, 5.2454696, 2.7656682, ...</td>\n",
       "      <td>[3.0629766, 3.0604162, 3.05607, 3.0304604, 3.0...</td>\n",
       "    </tr>\n",
       "    <tr>\n",
       "      <th>9999998</th>\n",
       "      <td>9999998</td>\n",
       "      <td>48.049965</td>\n",
       "      <td>9999999</td>\n",
       "      <td>[0.33274403, 0.62095946, 0.53932387, 0.2804743...</td>\n",
       "      <td>[3.6669955, 1.1118023, 0.88071144, 0.30665207,...</td>\n",
       "      <td>[-3.0908368, -1.1865112, -1.0729473, -0.428758...</td>\n",
       "      <td>[4.2063203, 2.0468948, 4.2278347, 2.179225, 4....</td>\n",
       "      <td>[3.0507274, 2.548997, 2.482534, 1.9869915, 1.2...</td>\n",
       "    </tr>\n",
       "    <tr>\n",
       "      <th>9999999</th>\n",
       "      <td>9999999</td>\n",
       "      <td>48.049965</td>\n",
       "      <td>10000000</td>\n",
       "      <td>[0.5677445, 0.21868664, 0.64626646, 0.69370884...</td>\n",
       "      <td>[1.9642757, 1.2459247, 5.576303, 8.043123, 6.3...</td>\n",
       "      <td>[1.9127828, 2.425348, 2.8448417, 3.1418028, 3....</td>\n",
       "      <td>[0.6163865, 6.00455, 4.8650513, 2.0687835, 3.1...</td>\n",
       "      <td>[0.2932187, 0.17643553, 0.116156176, 0.0863559...</td>\n",
       "    </tr>\n",
       "  </tbody>\n",
       "</table>\n",
       "<p>10000000 rows × 8 columns</p>\n",
       "</div>"
      ],
      "text/plain": [
       "            evid       xsec   ntrials  \\\n",
       "0              0   5.205378         1   \n",
       "1              1  37.850784         2   \n",
       "2              2  37.850784         3   \n",
       "3              3  37.850784         4   \n",
       "4              4  42.950375         5   \n",
       "...          ...        ...       ...   \n",
       "9999995  9999995  48.049965   9999996   \n",
       "9999996  9999996  48.049965   9999997   \n",
       "9999997  9999997  48.049965   9999998   \n",
       "9999998  9999998  48.049965   9999999   \n",
       "9999999  9999999  48.049965  10000000   \n",
       "\n",
       "                                                    pt_jet  \\\n",
       "0                                                       []   \n",
       "1        [2.201913, 0.29578567, 0.9773209, 0.7681313, 0...   \n",
       "2        [1.6465796, 0.27085885, 0.48814473, 0.4998024,...   \n",
       "3        [0.9102772, 0.82021517, 0.42095256, 0.515329, ...   \n",
       "4        [0.3276816, 0.39279422, 0.6722541, 0.26302376,...   \n",
       "...                                                    ...   \n",
       "9999995  [0.7776813, 0.22989054, 0.5844519, 0.765267, 0...   \n",
       "9999996                                                 []   \n",
       "9999997  [0.55437016, 0.6537371, 1.463661, 0.9613081, 0...   \n",
       "9999998  [0.33274403, 0.62095946, 0.53932387, 0.2804743...   \n",
       "9999999  [0.5677445, 0.21868664, 0.64626646, 0.69370884...   \n",
       "\n",
       "                                                     p_jet  \\\n",
       "0                                                       []   \n",
       "1        [32.823925, 3.887846, 12.212997, 4.591309, 2.3...   \n",
       "2        [14.38167, 2.2402294, 3.7687087, 3.247805, 1.5...   \n",
       "3        [14.741579, 10.742817, 4.815067, 5.983839, 15....   \n",
       "4        [0.33303684, 0.4067837, 0.76470613, 0.8013649,...   \n",
       "...                                                    ...   \n",
       "9999995  [11.1556225, 1.8002781, 3.8625216, 3.3814282, ...   \n",
       "9999996                                                 []   \n",
       "9999997  [7.058883, 8.062139, 17.1352, 8.66796, 3.15630...   \n",
       "9999998  [3.6669955, 1.1118023, 0.88071144, 0.30665207,...   \n",
       "9999999  [1.9642757, 1.2459247, 5.576303, 8.043123, 6.3...   \n",
       "\n",
       "                                                   eta_jet  \\\n",
       "0                                                       []   \n",
       "1        [-3.3938513, -3.2676725, -3.2169833, -2.474034...   \n",
       "2        [-2.857108, -2.802208, -2.7328022, -2.5586953,...   \n",
       "3        [-3.4768708, -3.2641125, -3.128216, -3.1432998...   \n",
       "4        [0.18054634, 0.26610467, 0.51862115, 1.779129,...   \n",
       "...                                                    ...   \n",
       "9999995  [-3.355312, -2.7471385, -2.5757744, -2.165918,...   \n",
       "9999996                                                 []   \n",
       "9999997  [-3.2358112, -3.203728, -3.1515121, -2.8891518...   \n",
       "9999998  [-3.0908368, -1.1865112, -1.0729473, -0.428758...   \n",
       "9999999  [1.9127828, 2.425348, 2.8448417, 3.1418028, 3....   \n",
       "\n",
       "                                                   phi_jet  \\\n",
       "0                                                       []   \n",
       "1        [6.23342, 3.69009, 5.5482874, 2.385043, 4.8357...   \n",
       "2        [3.6834486, 0.023993153, 1.520591, 5.428285, 2...   \n",
       "3        [2.896294, 4.9733853, 4.291181, 0.6668749, 1.4...   \n",
       "4        [2.213621, 0.44291025, 4.5796113, 2.6460323, 2...   \n",
       "...                                                    ...   \n",
       "9999995  [1.7558124, 3.1974523, 2.6087239, 5.895424, 2....   \n",
       "9999996                                                 []   \n",
       "9999997  [1.4067961, 0.53279525, 5.2454696, 2.7656682, ...   \n",
       "9999998  [4.2063203, 2.0468948, 4.2278347, 2.179225, 4....   \n",
       "9999999  [0.6163865, 6.00455, 4.8650513, 2.0687835, 3.1...   \n",
       "\n",
       "                                                 theta_jet  \n",
       "0                                                       []  \n",
       "1        [3.0744598, 3.0654395, 3.061484, 2.973501, 2.9...  \n",
       "2        [3.0268495, 3.0203893, 3.011702, 2.9870894, 2....  \n",
       "3        [3.0798044, 3.0651681, 3.054057, 3.0553658, 3....  \n",
       "4        [1.391223, 1.3077778, 1.0739732, 0.3344183, 0....  \n",
       "...                                                    ...  \n",
       "9999995  [3.071824, 3.0135458, 2.9896955, 2.9133, 2.464...  \n",
       "9999996                                                 []  \n",
       "9999997  [3.0629766, 3.0604162, 3.05607, 3.0304604, 3.0...  \n",
       "9999998  [3.0507274, 2.548997, 2.482534, 1.9869915, 1.2...  \n",
       "9999999  [0.2932187, 0.17643553, 0.116156176, 0.0863559...  \n",
       "\n",
       "[10000000 rows x 8 columns]"
      ]
     },
     "execution_count": 11,
     "metadata": {},
     "output_type": "execute_result"
    }
   ],
   "source": [
    "a"
   ]
  },
  {
   "cell_type": "code",
   "execution_count": 12,
   "metadata": {},
   "outputs": [],
   "source": [
    "b = flattenDf(a)"
   ]
  },
  {
   "cell_type": "code",
   "execution_count": 13,
   "metadata": {},
   "outputs": [
    {
     "data": {
      "text/html": [
       "<div>\n",
       "<style scoped>\n",
       "    .dataframe tbody tr th:only-of-type {\n",
       "        vertical-align: middle;\n",
       "    }\n",
       "\n",
       "    .dataframe tbody tr th {\n",
       "        vertical-align: top;\n",
       "    }\n",
       "\n",
       "    .dataframe thead th {\n",
       "        text-align: right;\n",
       "    }\n",
       "</style>\n",
       "<table border=\"1\" class=\"dataframe\">\n",
       "  <thead>\n",
       "    <tr style=\"text-align: right;\">\n",
       "      <th></th>\n",
       "      <th>pt_jet</th>\n",
       "      <th>eta_jet</th>\n",
       "    </tr>\n",
       "  </thead>\n",
       "  <tbody>\n",
       "    <tr>\n",
       "      <th>0</th>\n",
       "      <td>2.201913</td>\n",
       "      <td>-3.393851</td>\n",
       "    </tr>\n",
       "    <tr>\n",
       "      <th>1</th>\n",
       "      <td>0.295786</td>\n",
       "      <td>-3.267673</td>\n",
       "    </tr>\n",
       "    <tr>\n",
       "      <th>2</th>\n",
       "      <td>0.977321</td>\n",
       "      <td>-3.216983</td>\n",
       "    </tr>\n",
       "    <tr>\n",
       "      <th>3</th>\n",
       "      <td>0.768131</td>\n",
       "      <td>-2.474035</td>\n",
       "    </tr>\n",
       "    <tr>\n",
       "      <th>4</th>\n",
       "      <td>0.415331</td>\n",
       "      <td>-2.437051</td>\n",
       "    </tr>\n",
       "    <tr>\n",
       "      <th>...</th>\n",
       "      <td>...</td>\n",
       "      <td>...</td>\n",
       "    </tr>\n",
       "    <tr>\n",
       "      <th>185227696</th>\n",
       "      <td>0.567744</td>\n",
       "      <td>1.912783</td>\n",
       "    </tr>\n",
       "    <tr>\n",
       "      <th>185227697</th>\n",
       "      <td>0.218687</td>\n",
       "      <td>2.425348</td>\n",
       "    </tr>\n",
       "    <tr>\n",
       "      <th>185227698</th>\n",
       "      <td>0.646266</td>\n",
       "      <td>2.844842</td>\n",
       "    </tr>\n",
       "    <tr>\n",
       "      <th>185227699</th>\n",
       "      <td>0.693709</td>\n",
       "      <td>3.141803</td>\n",
       "    </tr>\n",
       "    <tr>\n",
       "      <th>185227700</th>\n",
       "      <td>0.542710</td>\n",
       "      <td>3.144472</td>\n",
       "    </tr>\n",
       "  </tbody>\n",
       "</table>\n",
       "<p>185227701 rows × 2 columns</p>\n",
       "</div>"
      ],
      "text/plain": [
       "             pt_jet   eta_jet\n",
       "0          2.201913 -3.393851\n",
       "1          0.295786 -3.267673\n",
       "2          0.977321 -3.216983\n",
       "3          0.768131 -2.474035\n",
       "4          0.415331 -2.437051\n",
       "...             ...       ...\n",
       "185227696  0.567744  1.912783\n",
       "185227697  0.218687  2.425348\n",
       "185227698  0.646266  2.844842\n",
       "185227699  0.693709  3.141803\n",
       "185227700  0.542710  3.144472\n",
       "\n",
       "[185227701 rows x 2 columns]"
      ]
     },
     "execution_count": 13,
     "metadata": {},
     "output_type": "execute_result"
    }
   ],
   "source": [
    "b"
   ]
  },
  {
   "cell_type": "code",
   "execution_count": 14,
   "metadata": {},
   "outputs": [
    {
     "name": "stdout",
     "output_type": "stream",
     "text": [
      "abs(eta) < 0.5 26044817  fraction kept: 14.1\n",
      "0.5 < abs(eta) < 0.9 21220504  fraction kept: 11.5\n",
      "3.0 < eta < 3.5 12078845  fraction kept: 6.5\n"
     ]
    }
   ],
   "source": [
    "df1 = applyCut(b, 'abs(eta_jet) < 0.5', 'abs(eta) < 0.5')\n",
    "df2 = applyCut(b, '0.5 < abs(eta_jet) < 0.9', '0.5 < abs(eta) < 0.9')\n",
    "df3 = applyCut(b, '3.0 < eta_jet < 3.5', '3.0 < eta < 3.5')"
   ]
  },
  {
   "cell_type": "code",
   "execution_count": 15,
   "metadata": {},
   "outputs": [
    {
     "name": "stdout",
     "output_type": "stream",
     "text": [
      "3.000000238418579 3.499999761581421 13.620253562927246\n"
     ]
    }
   ],
   "source": [
    "print(min(df3['eta_jet']), max(df3['eta_jet']), max(df3['pt_jet']))"
   ]
  },
  {
   "cell_type": "code",
   "execution_count": 16,
   "metadata": {},
   "outputs": [],
   "source": [
    "xvar_array = toArrayFloat(0.95, 1.90, 0, log=True, logNum=11)\n",
    "xsec = np.mean(a['xsec'])\n",
    "ntrials = a['ntrials'][a.shape[0]-1]\n",
    "x1, y1, xerr, yerr1 = getHist(df1, 'pt_jet', xvar_array)\n",
    "x2, y2, xerr, yerr2 = getHist(df2, 'pt_jet', xvar_array)\n",
    "x3, y3, xerr, yerr3 = getHist(df3, 'pt_jet', xvar_array)"
   ]
  },
  {
   "cell_type": "code",
   "execution_count": 17,
   "metadata": {},
   "outputs": [
    {
     "data": {
      "text/plain": [
       "Text(65, 5, '$\\\\sqrt{s} = 510 \\\\, \\\\mathrm{GeV}$ \\n R = 0.5')"
      ]
     },
     "execution_count": 17,
     "metadata": {},
     "output_type": "execute_result"
    },
    {
     "data": {
      "image/png": "[encoded data removed]",
      "text/plain": [
       "<Figure size 720x432 with 1 Axes>"
      ]
     },
     "metadata": {
      "needs_background": "light"
     },
     "output_type": "display_data"
    }
   ],
   "source": [
    "fig = plt.figure(figsize=(10,6))\n",
    "plt.errorbar(x1, y1*xsec*1e9/(2*ntrials*xerr*1), xerr = xerr, yerr = yerr1*xsec*1e9/(2*ntrials*xerr*1),\\\n",
    "             fmt='none', color='r', elinewidth=1, label='|$\\eta$| < 0.5')\n",
    "plt.plot(x1, y1*xsec*1e9/(2*ntrials*xerr*1), 'r.', fillstyle='none')\n",
    "plt.errorbar(x2, y2*xsec*1e9/(2*ntrials*xerr*0.8), xerr = xerr, yerr = yerr2*xsec*1e9/(2*ntrials*xerr*0.8),\\\n",
    "             fmt='none', color='b', elinewidth=1, label='0.5 < |$\\eta$| < 0.9')\n",
    "plt.plot(x2, y2*xsec*1e9/(2*ntrials*xerr*0.8), 'b.', fillstyle='none')\n",
    "plt.xticks(fontsize=15)\n",
    "plt.yticks(fontsize=15)\n",
    "plt.yscale('log')\n",
    "plt.xlabel('$p_T$ [GeV]', fontsize=15)\n",
    "plt.ylabel(r'$d^2 \\sigma / (dp_T d \\eta)$ [pb/GeV]', fontsize=15)\n",
    "plt.xlim(left=7.5, right=80)\n",
    "plt.ylim(top=3e7, bottom=1)\n",
    "plt.legend(prop={'size': 15}, frameon=False, loc='best')\n",
    "plt.text(65,5,'$\\sqrt{s} = 510 \\, \\mathrm{GeV}$ \\n R = 0.5', fontsize=15)"
   ]
  },
  {
   "cell_type": "code",
   "execution_count": 18,
   "metadata": {},
   "outputs": [
    {
     "data": {
      "text/plain": [
       "Text(25, 5, '$\\\\sqrt{s} = 510 \\\\, \\\\mathrm{GeV}$ \\n R = 0.5')"
      ]
     },
     "execution_count": 18,
     "metadata": {},
     "output_type": "execute_result"
    },
    {
     "data": {
      "image/png": "[encoded data removed]",
      "text/plain": [
       "<Figure size 720x432 with 1 Axes>"
      ]
     },
     "metadata": {
      "needs_background": "light"
     },
     "output_type": "display_data"
    }
   ],
   "source": [
    "fig = plt.figure(figsize=(10,6))\n",
    "plt.errorbar(x1, y1*xsec*1e9/(2*ntrials*xerr*1), xerr = xerr, yerr = yerr1*xsec*1e9/(2*ntrials*xerr*1),\\\n",
    "             fmt='none', color='r', elinewidth=1, label='|$\\eta$| < 0.5')\n",
    "plt.plot(x1, y1*xsec*1e9/(2*ntrials*xerr*1), 'r.', fillstyle='none')\n",
    "plt.errorbar(x2, y2*xsec*1e9/(2*ntrials*xerr*0.8), xerr = xerr, yerr = yerr2*xsec*1e9/(2*ntrials*xerr*0.8),\\\n",
    "             fmt='none', color='b', elinewidth=1, label='0.5 < |$\\eta$| < 0.9')\n",
    "plt.plot(x2, y2*xsec*1e9/(2*ntrials*xerr*0.8), 'b.', fillstyle='none')\n",
    "plt.errorbar(x3, y3*xsec*1e9/(2*ntrials*xerr*1.5), xerr = xerr, yerr = yerr3*xsec*1e9/(2*ntrials*xerr*1.5),\\\n",
    "             fmt='none', color='g', elinewidth=1, label='3.0 < $\\eta$ < 3.5')\n",
    "plt.plot(x3, y3*xsec*1e9/(2*ntrials*xerr*1.5), 'g.', fillstyle='none')\n",
    "plt.xticks(fontsize=15)\n",
    "plt.yticks(fontsize=15)\n",
    "plt.tick_params('both', length=10, width=1, which='major')\n",
    "plt.yscale('log')\n",
    "plt.xlabel('$p_T$ [GeV]', fontsize=15)\n",
    "plt.ylabel(r'$d^2 \\sigma / (dp_T d \\eta)$ [pb/GeV]', fontsize=15)\n",
    "plt.xlim(left=7.5, right=30)\n",
    "plt.ylim(top=3e7, bottom=1)\n",
    "plt.legend(prop={'size': 15}, frameon=False, loc='best')\n",
    "plt.text(25,5,'$\\sqrt{s} = 510 \\, \\mathrm{GeV}$ \\n R = 0.5', fontsize=15)"
   ]
  },
  {
   "cell_type": "code",
   "execution_count": 19,
   "metadata": {},
   "outputs": [],
   "source": [
    "xvar_array = toArrayFloat(0.30, 1.50, 0, log=True, logNum=11)\n",
    "x3, y3, xerr, yerr3 = getHist(df3, 'pt_jet', xvar_array)"
   ]
  },
  {
   "cell_type": "code",
   "execution_count": 20,
   "metadata": {},
   "outputs": [
    {
     "data": {
      "text/plain": [
       "Text(12, 10000.0, '$\\\\sqrt{s} = 510 \\\\, \\\\mathrm{GeV}$ \\n R = 0.5')"
      ]
     },
     "execution_count": 20,
     "metadata": {},
     "output_type": "execute_result"
    },
    {
     "data": {
      "image/png": "[encoded data removed]",
      "text/plain": [
       "<Figure size 720x432 with 1 Axes>"
      ]
     },
     "metadata": {
      "needs_background": "light"
     },
     "output_type": "display_data"
    }
   ],
   "source": [
    "fig = plt.figure(figsize=(10,6))\n",
    "plt.errorbar(x3, y3*xsec*1e9/(2*ntrials*xerr*1.5), xerr = xerr, yerr = yerr3*xsec*1e9/(2*ntrials*xerr*1.5),\\\n",
    "             fmt='none', color='g', elinewidth=1, label='3.0 < $\\eta$ < 3.5')\n",
    "plt.plot(x3, y3*xsec*1e9/(2*ntrials*xerr*1.5), 'g.', fillstyle='none')\n",
    "plt.xticks(fontsize=15)\n",
    "plt.yticks(fontsize=15)\n",
    "plt.tick_params('both', length=10, width=1, which='major')\n",
    "plt.yscale('log')\n",
    "plt.xlabel('$p_T$ [GeV]', fontsize=15)\n",
    "plt.ylabel(r'$d^2 \\sigma / (dp_T d \\eta)$ [pb/GeV]', fontsize=15)\n",
    "plt.xlim(left=2.0, right=15)\n",
    "#plt.ylim(top=3e7, bottom=1)\n",
    "plt.legend(prop={'size': 15}, frameon=False, loc='best')\n",
    "plt.text(12,1e4,'$\\sqrt{s} = 510 \\, \\mathrm{GeV}$ \\n R = 0.5', fontsize=15)"
   ]
  },
  {
   "cell_type": "code",
   "execution_count": null,
   "metadata": {},
   "outputs": [],
   "source": []
  }
 ],
 "metadata": {
  "kernelspec": {
   "display_name": "Python 3",
   "language": "python",
   "name": "python3"
  },
  "language_info": {
   "codemirror_mode": {
    "name": "ipython",
    "version": 3
   },
   "file_extension": ".py",
   "mimetype": "text/x-python",
   "name": "python",
   "nbconvert_exporter": "python",
   "pygments_lexer": "ipython3",
   "version": "3.8.6"
  }
 },
 "nbformat": 4,
 "nbformat_minor": 2
}
