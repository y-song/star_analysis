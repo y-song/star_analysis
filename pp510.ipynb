{
 "cells": [
  {
   "cell_type": "code",
   "execution_count": 1,
   "metadata": {},
   "outputs": [
    {
     "name": "stdout",
     "output_type": "stream",
     "text": [
      "Welcome to JupyROOT 6.22/02\n"
     ]
    }
   ],
   "source": [
    "import time\n",
    "import ROOT\n",
    "import math\n",
    "import numpy as np\n",
    "import pandas as pd\n",
    "import root_numpy\n",
    "import matplotlib.pyplot as plt\n",
    "import matplotlib.ticker as mticker\n",
    "from matplotlib.colors import LogNorm"
   ]
  },
  {
   "cell_type": "code",
   "execution_count": 2,
   "metadata": {},
   "outputs": [],
   "source": [
    "def getData(inputFiles):\n",
    "    data = root_numpy.root2array(inputFiles, \"Tree\", \\\n",
    "                                 branches=['evid','xsec','ntrials','pt_jet', 'p_jet', 'eta_jet', 'phi_jet', 'theta_jet'])\n",
    "    return pd.DataFrame(data)"
   ]
  },
  {
   "cell_type": "code",
   "execution_count": 3,
   "metadata": {},
   "outputs": [],
   "source": [
    "def applyCut(inputDataframe, cut, text=None):\n",
    "    dataframe = inputDataframe\n",
    "    nbeforecut = dataframe.shape[0]\n",
    "    cutDataframe = dataframe.query(cut)\n",
    "    if text:\n",
    "        print (text, cutDataframe.shape[0], ' fraction kept: %2.1f'%(100.0*float(cutDataframe.shape[0])/nbeforecut))\n",
    "    return cutDataframe"
   ]
  },
  {
   "cell_type": "code",
   "execution_count": 4,
   "metadata": {},
   "outputs": [],
   "source": [
    "def toArrayFloat(begin, end, interval=0, log=False, logNum=0):\n",
    "    array = []\n",
    "    if log==True:\n",
    "        array = np.logspace(begin, end, num=logNum)\n",
    "    else:\n",
    "        length = int((end - begin) / interval + 1)\n",
    "        for i in range(0,length):\n",
    "            array.append((float(begin + interval * i))) \n",
    "    return array"
   ]
  },
  {
   "cell_type": "code",
   "execution_count": 5,
   "metadata": {},
   "outputs": [],
   "source": [
    "def getInterval(arrayFloat):\n",
    "    interval = np.zeros(len(arrayFloat)-1)\n",
    "    for i in range(0,len(arrayFloat)-1):\n",
    "        interval[i] = arrayFloat[i+1] - arrayFloat[i]\n",
    "    return interval"
   ]
  },
  {
   "cell_type": "code",
   "execution_count": 6,
   "metadata": {},
   "outputs": [],
   "source": [
    "def getHist(df, var, binEdges):\n",
    "        \n",
    "    x = []\n",
    "    for i in range(0,len(binEdges)-1):\n",
    "        x.append((binEdges[i] + binEdges[i+1]) / 2)\n",
    "    \n",
    "    y = np.histogram(df[var], bins=binEdges)[0]\n",
    "    \n",
    "    xerr = getInterval(binEdges)/2\n",
    "    \n",
    "    yerr = np.sqrt(y)\n",
    "    \n",
    "    return x, y, xerr, yerr"
   ]
  },
  {
   "cell_type": "code",
   "execution_count": 7,
   "metadata": {},
   "outputs": [],
   "source": [
    "def keepOneJet(inputDataframe):    \n",
    "    dataframe = inputDataframe\n",
    "    nbeforecut = dataframe.shape[0]\n",
    "    cutDataframe = dataframe.loc[~dataframe['evid'].duplicated(keep='first')]\n",
    "    print ('\\n','Remove extra jets',cutDataframe.shape[0],' fraction kept: %2.1f'%(100.0*float(cutDataframe.shape[0])/nbeforecut))\n",
    "    return cutDataframe"
   ]
  },
  {
   "cell_type": "code",
   "execution_count": 8,
   "metadata": {},
   "outputs": [],
   "source": [
    "def flattenDf(a):\n",
    "    pt_array = np.hstack(np.asarray(a['pt_jet']))\n",
    "    eta_array = np.hstack(np.asarray(a['eta_jet']))\n",
    "    d = {'pt_jet': pt_array, 'eta_jet': eta_array}\n",
    "    df = pd.DataFrame(data=d)\n",
    "    df\n",
    "    return df"
   ]
  },
  {
   "cell_type": "code",
   "execution_count": 9,
   "metadata": {},
   "outputs": [],
   "source": [
    "file1 = ['$HOME/output/51005.root']"
   ]
  },
  {
   "cell_type": "code",
   "execution_count": 10,
   "metadata": {},
   "outputs": [],
   "source": [
    "a = getData(file1)"
   ]
  },
  {
   "cell_type": "code",
   "execution_count": 11,
   "metadata": {},
   "outputs": [
    {
     "data": {
      "text/html": [
       "<div>\n",
       "<style scoped>\n",
       "    .dataframe tbody tr th:only-of-type {\n",
       "        vertical-align: middle;\n",
       "    }\n",
       "\n",
       "    .dataframe tbody tr th {\n",
       "        vertical-align: top;\n",
       "    }\n",
       "\n",
       "    .dataframe thead th {\n",
       "        text-align: right;\n",
       "    }\n",
       "</style>\n",
       "<table border=\"1\" class=\"dataframe\">\n",
       "  <thead>\n",
       "    <tr style=\"text-align: right;\">\n",
       "      <th></th>\n",
       "      <th>evid</th>\n",
       "      <th>xsec</th>\n",
       "      <th>ntrials</th>\n",
       "      <th>pt_jet</th>\n",
       "      <th>p_jet</th>\n",
       "      <th>eta_jet</th>\n",
       "      <th>phi_jet</th>\n",
       "      <th>theta_jet</th>\n",
       "    </tr>\n",
       "  </thead>\n",
       "  <tbody>\n",
       "    <tr>\n",
       "      <th>0</th>\n",
       "      <td>0</td>\n",
       "      <td>5.099590</td>\n",
       "      <td>1</td>\n",
       "      <td>[0.25955725, 0.48918608]</td>\n",
       "      <td>[1.848734, 3.7068202]</td>\n",
       "      <td>[2.6514616, 2.7139513]</td>\n",
       "      <td>[4.173863, 1.8319907]</td>\n",
       "      <td>[0.14086266, 0.13235527]</td>\n",
       "    </tr>\n",
       "    <tr>\n",
       "      <th>1</th>\n",
       "      <td>1</td>\n",
       "      <td>37.744999</td>\n",
       "      <td>2</td>\n",
       "      <td>[0.33709574, 0.23840635, 0.6016619, 0.99975383...</td>\n",
       "      <td>[4.9972453, 2.9033222, 3.2809026, 5.284408, 4....</td>\n",
       "      <td>[-3.3882828, -3.1910915, -2.38081, -2.3490832,...</td>\n",
       "      <td>[4.0155554, 5.519748, 2.0612774, 2.6294131, 4....</td>\n",
       "      <td>[3.074085, 3.059385, 2.957166, 2.951256, 2.895...</td>\n",
       "    </tr>\n",
       "    <tr>\n",
       "      <th>2</th>\n",
       "      <td>2</td>\n",
       "      <td>37.744999</td>\n",
       "      <td>3</td>\n",
       "      <td>[0.48615536, 0.8200766, 0.47796375, 0.8192631,...</td>\n",
       "      <td>[5.672879, 5.01597, 1.9860084, 2.339233, 1.172...</td>\n",
       "      <td>[-3.1482298, -2.4973812, -2.1026895, -1.710140...</td>\n",
       "      <td>[5.108507, 0.72888505, 2.5232522, 1.8545115, 2...</td>\n",
       "      <td>[3.0557892, 2.9773624, 2.8985412, 2.783779, 2....</td>\n",
       "    </tr>\n",
       "    <tr>\n",
       "      <th>3</th>\n",
       "      <td>3</td>\n",
       "      <td>42.844589</td>\n",
       "      <td>4</td>\n",
       "      <td>[0.3043697, 0.3408571, 1.3637006, 1.0725259, 0...</td>\n",
       "      <td>[5.041816, 4.0449176, 11.150724, 6.674681, 2.7...</td>\n",
       "      <td>[-3.4995134, -3.1651204, -2.7906892, -2.514933...</td>\n",
       "      <td>[3.169916, 5.2034125, 1.5924561, 5.7446527, 4....</td>\n",
       "      <td>[3.0811868, 3.0572245, 3.0189886, 2.9802072, 2...</td>\n",
       "    </tr>\n",
       "    <tr>\n",
       "      <th>4</th>\n",
       "      <td>4</td>\n",
       "      <td>42.844589</td>\n",
       "      <td>5</td>\n",
       "      <td>[0.6586045, 0.36148256, 0.52570575, 0.3427396,...</td>\n",
       "      <td>[7.3001995, 2.781712, 3.4872885, 1.5292927, 2....</td>\n",
       "      <td>[-3.0966399, -2.7295065, -2.579555, -2.1759365...</td>\n",
       "      <td>[2.9667442, 5.23752, 0.98785865, 3.1397994, 5....</td>\n",
       "      <td>[3.0512526, 3.0112743, 2.9902666, 2.9155564, 2...</td>\n",
       "    </tr>\n",
       "    <tr>\n",
       "      <th>...</th>\n",
       "      <td>...</td>\n",
       "      <td>...</td>\n",
       "      <td>...</td>\n",
       "      <td>...</td>\n",
       "      <td>...</td>\n",
       "      <td>...</td>\n",
       "      <td>...</td>\n",
       "      <td>...</td>\n",
       "    </tr>\n",
       "    <tr>\n",
       "      <th>999995</th>\n",
       "      <td>999995</td>\n",
       "      <td>48.049965</td>\n",
       "      <td>999996</td>\n",
       "      <td>[0.3105075, 0.7545823, 0.6587635, 0.33138683, ...</td>\n",
       "      <td>[4.619066, 6.275178, 1.2142402, 0.45247906, 0....</td>\n",
       "      <td>[-3.3917553, -2.8077054, -1.221294, -0.8307819...</td>\n",
       "      <td>[2.32388, 3.521263, 4.7333617, 0.77738005, 3.3...</td>\n",
       "      <td>[3.074319, 3.0210521, 2.568145, 2.319781, 2.03...</td>\n",
       "    </tr>\n",
       "    <tr>\n",
       "      <th>999996</th>\n",
       "      <td>999996</td>\n",
       "      <td>48.049965</td>\n",
       "      <td>999997</td>\n",
       "      <td>[0.42389533, 0.39017045, 0.22731407, 0.4287278...</td>\n",
       "      <td>[2.3374085, 1.3658818, 0.6807117, 1.1554085, 0...</td>\n",
       "      <td>[-2.3921332, -1.9250653, -1.7608314, -1.648185...</td>\n",
       "      <td>[6.084392, 3.8432841, 2.0635707, 5.0105023, 3....</td>\n",
       "      <td>[2.959231, 2.8519032, 2.8011165, 2.7614405, 2....</td>\n",
       "    </tr>\n",
       "    <tr>\n",
       "      <th>999997</th>\n",
       "      <td>999997</td>\n",
       "      <td>48.049965</td>\n",
       "      <td>999998</td>\n",
       "      <td>[0.276625, 0.5541018, 3.142076, 0.83342344, 0....</td>\n",
       "      <td>[2.954624, 5.6727805, 30.59418, 7.4235196, 4.5...</td>\n",
       "      <td>[-3.0594125, -3.0168395, -2.966426, -2.876848,...</td>\n",
       "      <td>[5.5661387, 4.8325663, 4.1764317, 1.0416129, 3...</td>\n",
       "      <td>[3.0478308, 3.0437593, 3.0387094, 3.0290875, 3...</td>\n",
       "    </tr>\n",
       "    <tr>\n",
       "      <th>999998</th>\n",
       "      <td>999998</td>\n",
       "      <td>48.049965</td>\n",
       "      <td>999999</td>\n",
       "      <td>[0.5214733, 2.2716038, 0.39189255, 0.7930833, ...</td>\n",
       "      <td>[6.5278316, 26.707752, 4.084359, 8.237682, 13....</td>\n",
       "      <td>[-3.21872, -3.1558015, -3.03477, -3.031368, -2...</td>\n",
       "      <td>[5.0445185, 1.7000787, 0.7186803, 2.4960694, 5...</td>\n",
       "      <td>[3.0616229, 3.0564356, 3.0454953, 3.0451682, 3...</td>\n",
       "    </tr>\n",
       "    <tr>\n",
       "      <th>999999</th>\n",
       "      <td>999999</td>\n",
       "      <td>48.049965</td>\n",
       "      <td>1000000</td>\n",
       "      <td>[0.8284634, 0.9391402, 0.25664383, 0.4014804, ...</td>\n",
       "      <td>[10.871706, 11.938392, 2.0110395, 1.0145981, 0...</td>\n",
       "      <td>[-3.2660387, -3.2341464, -2.7477682, -1.578569...</td>\n",
       "      <td>[3.8632782, 4.654706, 5.5013433, 3.0898888, 3....</td>\n",
       "      <td>[3.065315, 3.0628457, 3.013626, 2.7347584, 2.4...</td>\n",
       "    </tr>\n",
       "  </tbody>\n",
       "</table>\n",
       "<p>1000000 rows × 8 columns</p>\n",
       "</div>"
      ],
      "text/plain": [
       "          evid       xsec  ntrials  \\\n",
       "0            0   5.099590        1   \n",
       "1            1  37.744999        2   \n",
       "2            2  37.744999        3   \n",
       "3            3  42.844589        4   \n",
       "4            4  42.844589        5   \n",
       "...        ...        ...      ...   \n",
       "999995  999995  48.049965   999996   \n",
       "999996  999996  48.049965   999997   \n",
       "999997  999997  48.049965   999998   \n",
       "999998  999998  48.049965   999999   \n",
       "999999  999999  48.049965  1000000   \n",
       "\n",
       "                                                   pt_jet  \\\n",
       "0                                [0.25955725, 0.48918608]   \n",
       "1       [0.33709574, 0.23840635, 0.6016619, 0.99975383...   \n",
       "2       [0.48615536, 0.8200766, 0.47796375, 0.8192631,...   \n",
       "3       [0.3043697, 0.3408571, 1.3637006, 1.0725259, 0...   \n",
       "4       [0.6586045, 0.36148256, 0.52570575, 0.3427396,...   \n",
       "...                                                   ...   \n",
       "999995  [0.3105075, 0.7545823, 0.6587635, 0.33138683, ...   \n",
       "999996  [0.42389533, 0.39017045, 0.22731407, 0.4287278...   \n",
       "999997  [0.276625, 0.5541018, 3.142076, 0.83342344, 0....   \n",
       "999998  [0.5214733, 2.2716038, 0.39189255, 0.7930833, ...   \n",
       "999999  [0.8284634, 0.9391402, 0.25664383, 0.4014804, ...   \n",
       "\n",
       "                                                    p_jet  \\\n",
       "0                                   [1.848734, 3.7068202]   \n",
       "1       [4.9972453, 2.9033222, 3.2809026, 5.284408, 4....   \n",
       "2       [5.672879, 5.01597, 1.9860084, 2.339233, 1.172...   \n",
       "3       [5.041816, 4.0449176, 11.150724, 6.674681, 2.7...   \n",
       "4       [7.3001995, 2.781712, 3.4872885, 1.5292927, 2....   \n",
       "...                                                   ...   \n",
       "999995  [4.619066, 6.275178, 1.2142402, 0.45247906, 0....   \n",
       "999996  [2.3374085, 1.3658818, 0.6807117, 1.1554085, 0...   \n",
       "999997  [2.954624, 5.6727805, 30.59418, 7.4235196, 4.5...   \n",
       "999998  [6.5278316, 26.707752, 4.084359, 8.237682, 13....   \n",
       "999999  [10.871706, 11.938392, 2.0110395, 1.0145981, 0...   \n",
       "\n",
       "                                                  eta_jet  \\\n",
       "0                                  [2.6514616, 2.7139513]   \n",
       "1       [-3.3882828, -3.1910915, -2.38081, -2.3490832,...   \n",
       "2       [-3.1482298, -2.4973812, -2.1026895, -1.710140...   \n",
       "3       [-3.4995134, -3.1651204, -2.7906892, -2.514933...   \n",
       "4       [-3.0966399, -2.7295065, -2.579555, -2.1759365...   \n",
       "...                                                   ...   \n",
       "999995  [-3.3917553, -2.8077054, -1.221294, -0.8307819...   \n",
       "999996  [-2.3921332, -1.9250653, -1.7608314, -1.648185...   \n",
       "999997  [-3.0594125, -3.0168395, -2.966426, -2.876848,...   \n",
       "999998  [-3.21872, -3.1558015, -3.03477, -3.031368, -2...   \n",
       "999999  [-3.2660387, -3.2341464, -2.7477682, -1.578569...   \n",
       "\n",
       "                                                  phi_jet  \\\n",
       "0                                   [4.173863, 1.8319907]   \n",
       "1       [4.0155554, 5.519748, 2.0612774, 2.6294131, 4....   \n",
       "2       [5.108507, 0.72888505, 2.5232522, 1.8545115, 2...   \n",
       "3       [3.169916, 5.2034125, 1.5924561, 5.7446527, 4....   \n",
       "4       [2.9667442, 5.23752, 0.98785865, 3.1397994, 5....   \n",
       "...                                                   ...   \n",
       "999995  [2.32388, 3.521263, 4.7333617, 0.77738005, 3.3...   \n",
       "999996  [6.084392, 3.8432841, 2.0635707, 5.0105023, 3....   \n",
       "999997  [5.5661387, 4.8325663, 4.1764317, 1.0416129, 3...   \n",
       "999998  [5.0445185, 1.7000787, 0.7186803, 2.4960694, 5...   \n",
       "999999  [3.8632782, 4.654706, 5.5013433, 3.0898888, 3....   \n",
       "\n",
       "                                                theta_jet  \n",
       "0                                [0.14086266, 0.13235527]  \n",
       "1       [3.074085, 3.059385, 2.957166, 2.951256, 2.895...  \n",
       "2       [3.0557892, 2.9773624, 2.8985412, 2.783779, 2....  \n",
       "3       [3.0811868, 3.0572245, 3.0189886, 2.9802072, 2...  \n",
       "4       [3.0512526, 3.0112743, 2.9902666, 2.9155564, 2...  \n",
       "...                                                   ...  \n",
       "999995  [3.074319, 3.0210521, 2.568145, 2.319781, 2.03...  \n",
       "999996  [2.959231, 2.8519032, 2.8011165, 2.7614405, 2....  \n",
       "999997  [3.0478308, 3.0437593, 3.0387094, 3.0290875, 3...  \n",
       "999998  [3.0616229, 3.0564356, 3.0454953, 3.0451682, 3...  \n",
       "999999  [3.065315, 3.0628457, 3.013626, 2.7347584, 2.4...  \n",
       "\n",
       "[1000000 rows x 8 columns]"
      ]
     },
     "execution_count": 11,
     "metadata": {},
     "output_type": "execute_result"
    }
   ],
   "source": [
    "a"
   ]
  },
  {
   "cell_type": "code",
   "execution_count": 12,
   "metadata": {},
   "outputs": [],
   "source": [
    "b = flattenDf(a)"
   ]
  },
  {
   "cell_type": "code",
   "execution_count": 13,
   "metadata": {},
   "outputs": [
    {
     "data": {
      "text/html": [
       "<div>\n",
       "<style scoped>\n",
       "    .dataframe tbody tr th:only-of-type {\n",
       "        vertical-align: middle;\n",
       "    }\n",
       "\n",
       "    .dataframe tbody tr th {\n",
       "        vertical-align: top;\n",
       "    }\n",
       "\n",
       "    .dataframe thead th {\n",
       "        text-align: right;\n",
       "    }\n",
       "</style>\n",
       "<table border=\"1\" class=\"dataframe\">\n",
       "  <thead>\n",
       "    <tr style=\"text-align: right;\">\n",
       "      <th></th>\n",
       "      <th>pt_jet</th>\n",
       "      <th>eta_jet</th>\n",
       "    </tr>\n",
       "  </thead>\n",
       "  <tbody>\n",
       "    <tr>\n",
       "      <th>0</th>\n",
       "      <td>0.259557</td>\n",
       "      <td>2.651462</td>\n",
       "    </tr>\n",
       "    <tr>\n",
       "      <th>1</th>\n",
       "      <td>0.489186</td>\n",
       "      <td>2.713951</td>\n",
       "    </tr>\n",
       "    <tr>\n",
       "      <th>2</th>\n",
       "      <td>0.337096</td>\n",
       "      <td>-3.388283</td>\n",
       "    </tr>\n",
       "    <tr>\n",
       "      <th>3</th>\n",
       "      <td>0.238406</td>\n",
       "      <td>-3.191092</td>\n",
       "    </tr>\n",
       "    <tr>\n",
       "      <th>4</th>\n",
       "      <td>0.601662</td>\n",
       "      <td>-2.380810</td>\n",
       "    </tr>\n",
       "    <tr>\n",
       "      <th>...</th>\n",
       "      <td>...</td>\n",
       "      <td>...</td>\n",
       "    </tr>\n",
       "    <tr>\n",
       "      <th>18520085</th>\n",
       "      <td>0.258649</td>\n",
       "      <td>2.567214</td>\n",
       "    </tr>\n",
       "    <tr>\n",
       "      <th>18520086</th>\n",
       "      <td>0.396648</td>\n",
       "      <td>2.869979</td>\n",
       "    </tr>\n",
       "    <tr>\n",
       "      <th>18520087</th>\n",
       "      <td>0.280047</td>\n",
       "      <td>3.111065</td>\n",
       "    </tr>\n",
       "    <tr>\n",
       "      <th>18520088</th>\n",
       "      <td>0.529611</td>\n",
       "      <td>3.132606</td>\n",
       "    </tr>\n",
       "    <tr>\n",
       "      <th>18520089</th>\n",
       "      <td>0.404161</td>\n",
       "      <td>3.423119</td>\n",
       "    </tr>\n",
       "  </tbody>\n",
       "</table>\n",
       "<p>18520090 rows × 2 columns</p>\n",
       "</div>"
      ],
      "text/plain": [
       "            pt_jet   eta_jet\n",
       "0         0.259557  2.651462\n",
       "1         0.489186  2.713951\n",
       "2         0.337096 -3.388283\n",
       "3         0.238406 -3.191092\n",
       "4         0.601662 -2.380810\n",
       "...            ...       ...\n",
       "18520085  0.258649  2.567214\n",
       "18520086  0.396648  2.869979\n",
       "18520087  0.280047  3.111065\n",
       "18520088  0.529611  3.132606\n",
       "18520089  0.404161  3.423119\n",
       "\n",
       "[18520090 rows x 2 columns]"
      ]
     },
     "execution_count": 13,
     "metadata": {},
     "output_type": "execute_result"
    }
   ],
   "source": [
    "b"
   ]
  },
  {
   "cell_type": "code",
   "execution_count": 14,
   "metadata": {},
   "outputs": [
    {
     "name": "stdout",
     "output_type": "stream",
     "text": [
      "abs(eta) < 0.5 2602748  fraction kept: 14.1\n",
      "0.5 < abs(eta) < 0.9 2121210  fraction kept: 11.5\n"
     ]
    }
   ],
   "source": [
    "df1 = applyCut(b, 'abs(eta_jet) < 0.5', 'abs(eta) < 0.5')\n",
    "df2 = applyCut(b, '0.5 < abs(eta_jet) < 0.9', '0.5 < abs(eta) < 0.9')"
   ]
  },
  {
   "cell_type": "code",
   "execution_count": 15,
   "metadata": {},
   "outputs": [],
   "source": [
    "xvar_array = toArrayFloat(0.95, 1.90, 0, log=True, logNum=11)\n",
    "xsec = np.mean(a['xsec'])\n",
    "ntrials = a['ntrials'][a.shape[0]-1]\n",
    "x1, y1, xerr, yerr = getHist(df1, 'pt_jet', xvar_array)\n",
    "x2, y2, xerr, yerr = getHist(df2, 'pt_jet', xvar_array)"
   ]
  },
  {
   "cell_type": "code",
   "execution_count": 16,
   "metadata": {},
   "outputs": [
    {
     "data": {
      "text/plain": [
       "Text(65, 5, '$\\\\sqrt{s} = 510 \\\\, \\\\mathrm{GeV}$ \\n R = 0.5')"
      ]
     },
     "execution_count": 16,
     "metadata": {},
     "output_type": "execute_result"
    },
    {
     "data": {
      "image/png": "[encoded data removed]",
      "text/plain": [
       "<Figure size 720x432 with 1 Axes>"
      ]
     },
     "metadata": {
      "needs_background": "light"
     },
     "output_type": "display_data"
    }
   ],
   "source": [
    "fig = plt.figure(figsize=(10,6))\n",
    "plt.errorbar(x1, y1*xsec*1e9/(2*ntrials*xerr*1), xerr = xerr, yerr = yerr*xsec*1e9/(2*ntrials*xerr*1),\\\n",
    "             fmt='none', color='r', elinewidth=1, label='|$\\eta$| < 0.5')\n",
    "plt.plot(x1, y1*xsec*1e9/(2*ntrials*xerr*1), 'r.', fillstyle='none')\n",
    "plt.errorbar(x2, y2*xsec*1e9/(2*ntrials*xerr*0.8), xerr = xerr, yerr = yerr*xsec*1e9/(2*ntrials*xerr*0.8),\\\n",
    "             fmt='none', color='b', elinewidth=1, label='0.5 < |$\\eta$| < 0.9')\n",
    "plt.plot(x2, y2*xsec*1e9/(2*ntrials*xerr*0.8), 'b.', fillstyle='none')\n",
    "plt.xticks(fontsize=15)\n",
    "plt.yticks(fontsize=15)\n",
    "plt.yscale('log')\n",
    "plt.xlabel('$p_T$ [GeV]', fontsize=15)\n",
    "plt.ylabel(r'$d^2 \\sigma / (dp_T d \\eta)$ [pb/GeV]', fontsize=15)\n",
    "plt.xlim(left=7.5, right=80)\n",
    "plt.ylim(top=3e7, bottom=1)\n",
    "plt.legend(prop={'size': 15}, frameon=False, loc='best')\n",
    "plt.text(65,5,'$\\sqrt{s} = 510 \\, \\mathrm{GeV}$ \\n R = 0.5', fontsize=15)"
   ]
  },
  {
   "cell_type": "code",
   "execution_count": 17,
   "metadata": {},
   "outputs": [
    {
     "data": {
      "text/plain": [
       "Text(25, 5, '$\\\\sqrt{s} = 510 \\\\, \\\\mathrm{GeV}$ \\n R = 0.5')"
      ]
     },
     "execution_count": 17,
     "metadata": {},
     "output_type": "execute_result"
    },
    {
     "data": {
      "image/png": "[encoded data removed]",
      "text/plain": [
       "<Figure size 720x432 with 1 Axes>"
      ]
     },
     "metadata": {
      "needs_background": "light"
     },
     "output_type": "display_data"
    }
   ],
   "source": [
    "fig = plt.figure(figsize=(10,6))\n",
    "plt.errorbar(x1, y1*xsec*1e9/(2*ntrials*xerr*1), xerr = xerr, yerr = yerr*xsec*1e9/(2*ntrials*xerr*1),\\\n",
    "             fmt='none', color='r', elinewidth=1, label='|$\\eta$| < 0.5')\n",
    "plt.plot(x1, y1*xsec*1e9/(2*ntrials*xerr*1), 'r.', fillstyle='none')\n",
    "plt.errorbar(x2, y2*xsec*1e9/(2*ntrials*xerr*0.8), xerr = xerr, yerr = yerr*xsec*1e9/(2*ntrials*xerr*0.8),\\\n",
    "             fmt='none', color='b', elinewidth=1, label='0.5 < |$\\eta$| < 0.9')\n",
    "plt.plot(x2, y2*xsec*1e9/(2*ntrials*xerr*0.8), 'b.', fillstyle='none')\n",
    "plt.xticks(fontsize=15)\n",
    "plt.yticks(fontsize=15)\n",
    "plt.tick_params('both', length=10, width=1, which='major')\n",
    "plt.yscale('log')\n",
    "plt.xlabel('$p_T$ [GeV]', fontsize=15)\n",
    "plt.ylabel(r'$d^2 \\sigma / (dp_T d \\eta)$ [pb/GeV]', fontsize=15)\n",
    "plt.xlim(left=7.5, right=30)\n",
    "plt.ylim(top=3e7, bottom=1)\n",
    "plt.legend(prop={'size': 15}, frameon=False, loc='best')\n",
    "plt.text(25,5,'$\\sqrt{s} = 510 \\, \\mathrm{GeV}$ \\n R = 0.5', fontsize=15)"
   ]
  },
  {
   "cell_type": "code",
   "execution_count": null,
   "metadata": {},
   "outputs": [],
   "source": []
  }
 ],
 "metadata": {
  "kernelspec": {
   "display_name": "Python 3",
   "language": "python",
   "name": "python3"
  },
  "language_info": {
   "codemirror_mode": {
    "name": "ipython",
    "version": 3
   },
   "file_extension": ".py",
   "mimetype": "text/x-python",
   "name": "python",
   "nbconvert_exporter": "python",
   "pygments_lexer": "ipython3",
   "version": "3.8.5"
  }
 },
 "nbformat": 4,
 "nbformat_minor": 2
}
